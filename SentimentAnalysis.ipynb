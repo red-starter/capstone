{
 "cells": [
  {
   "cell_type": "code",
   "execution_count": 23,
   "metadata": {},
   "outputs": [],
   "source": [
    "import pandas as pd\n",
    "from textblob import TextBlob\n",
    "import nltk\n",
    "from numpy.random import choice"
   ]
  },
  {
   "cell_type": "code",
   "execution_count": 32,
   "metadata": {},
   "outputs": [],
   "source": [
    "df = pd.read_csv('cleaned_tweets.csv')"
   ]
  },
  {
   "cell_type": "code",
   "execution_count": 33,
   "metadata": {},
   "outputs": [],
   "source": [
    "sentiments = {}\n",
    "from numpy.random import choice"
   ]
  },
  {
   "cell_type": "code",
   "execution_count": 35,
   "metadata": {},
   "outputs": [],
   "source": [
    "for date in df.columns:\n",
    "    text = df[date]\n",
    "    positive, negative, neutral = 0,0,0\n",
    "    for tweet in text:\n",
    "        analysis = TextBlob(str(tweet))\n",
    "        if analysis.sentiment[0]>0:\n",
    "           positive+=1\n",
    "        elif analysis.sentiment[0]<0:\n",
    "           negative+=1\n",
    "        else:\n",
    "           neutral+=1\n",
    "        sentiments[date] = [negative,neutral,positive]\n"
   ]
  },
  {
   "cell_type": "code",
   "execution_count": 37,
   "metadata": {},
   "outputs": [],
   "source": [
    "# sentiments\n",
    "# dump into json\n",
    "import json\n",
    "with open('sentiments_day_tweets.json', 'w') as fp:\n",
    "    json.dump(sentiments, fp)"
   ]
  },
  {
   "cell_type": "code",
   "execution_count": 38,
   "metadata": {},
   "outputs": [
    {
     "data": {
      "text/plain": [
       "{'2009-04-06': [998, 1831, 2171],\n",
       " '2009-04-07': [976, 1819, 2205],\n",
       " '2009-04-17': [833, 1789, 2378],\n",
       " '2009-04-18': [904, 1855, 2241],\n",
       " '2009-04-19': [877, 1882, 2241],\n",
       " '2009-04-20': [916, 1775, 2309],\n",
       " '2009-04-21': [918, 1782, 2300],\n",
       " '2009-05-01': [942, 1777, 2281],\n",
       " '2009-05-02': [827, 1839, 2334],\n",
       " '2009-05-03': [925, 1817, 2258],\n",
       " '2009-05-04': [846, 1838, 2316],\n",
       " '2009-05-09': [906, 1815, 2279],\n",
       " '2009-05-10': [861, 1719, 2420],\n",
       " '2009-05-11': [913, 1800, 2287],\n",
       " '2009-05-13': [909, 1887, 2204],\n",
       " '2009-05-14': [907, 1873, 2220],\n",
       " '2009-05-16': [940, 1888, 2172],\n",
       " '2009-05-17': [823, 1831, 2346],\n",
       " '2009-05-18': [860, 1847, 2293],\n",
       " '2009-05-21': [899, 1845, 2256],\n",
       " '2009-05-22': [817, 1824, 2359],\n",
       " '2009-05-23': [1024, 1776, 2200],\n",
       " '2009-05-25': [824, 1744, 2432],\n",
       " '2009-05-26': [845, 1855, 2300],\n",
       " '2009-05-27': [989, 1945, 2066],\n",
       " '2009-05-28': [882, 1789, 2329],\n",
       " '2009-05-29': [846, 1890, 2264],\n",
       " '2009-05-30': [878, 1895, 2227],\n",
       " '2009-05-31': [837, 1868, 2295],\n",
       " '2009-06-01': [940, 1783, 2277],\n",
       " '2009-06-02': [888, 1910, 2202],\n",
       " '2009-06-03': [926, 1796, 2278],\n",
       " '2009-06-04': [915, 1855, 2230],\n",
       " '2009-06-05': [790, 1935, 2275],\n",
       " '2009-06-06': [830, 1922, 2248],\n",
       " '2009-06-07': [880, 1904, 2216],\n",
       " '2009-06-14': [902, 1739, 2359],\n",
       " '2009-06-15': [968, 1839, 2193],\n",
       " '2009-06-16': [1134, 1902, 1964],\n",
       " '2009-06-17': [1533, 1970, 1497],\n",
       " '2009-06-18': [1512, 1903, 1585],\n",
       " '2009-06-19': [1438, 1994, 1568],\n",
       " '2009-06-20': [1476, 1967, 1557],\n",
       " '2009-06-21': [1419, 1964, 1617],\n",
       " '2009-06-22': [1560, 1895, 1545],\n",
       " '2009-06-23': [1494, 1874, 1632],\n",
       " '2009-06-24': [1488, 1948, 1564],\n",
       " '2009-06-25': [1461, 1967, 1572]}"
      ]
     },
     "execution_count": 38,
     "metadata": {},
     "output_type": "execute_result"
    }
   ],
   "source": [
    "sentiments"
   ]
  },
  {
   "cell_type": "code",
   "execution_count": null,
   "metadata": {},
   "outputs": [],
   "source": []
  }
 ],
 "metadata": {
  "kernelspec": {
   "display_name": "Python 3",
   "language": "python",
   "name": "python3"
  },
  "language_info": {
   "codemirror_mode": {
    "name": "ipython",
    "version": 3
   },
   "file_extension": ".py",
   "mimetype": "text/x-python",
   "name": "python",
   "nbconvert_exporter": "python",
   "pygments_lexer": "ipython3",
   "version": "3.7.1"
  }
 },
 "nbformat": 4,
 "nbformat_minor": 2
}
