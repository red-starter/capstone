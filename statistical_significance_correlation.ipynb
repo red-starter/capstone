{
 "cells": [
  {
   "cell_type": "code",
   "execution_count": 91,
   "metadata": {},
   "outputs": [],
   "source": [
    "import matplotlib.pyplot as plt\n",
    "import pandas as pd\n",
    "import numpy as np"
   ]
  },
  {
   "cell_type": "code",
   "execution_count": 92,
   "metadata": {},
   "outputs": [],
   "source": [
    "tweet_sentiment_df = pd.read_csv('all_days.csv')\n",
    "mean_finance_df = pd.read_csv('mean_finance.csv')"
   ]
  },
  {
   "cell_type": "code",
   "execution_count": 93,
   "metadata": {},
   "outputs": [],
   "source": [
    "mean_finance_df = mean_finance_df.set_index('Date').rename(columns ={'mean':'agg_stock_percent_change'})"
   ]
  },
  {
   "cell_type": "code",
   "execution_count": 94,
   "metadata": {},
   "outputs": [],
   "source": [
    "tweet_sentiment_df = tweet_sentiment_df.T"
   ]
  },
  {
   "cell_type": "code",
   "execution_count": 95,
   "metadata": {},
   "outputs": [],
   "source": [
    "tweet_sentiment_df['total'] =  tweet_sentiment_df[0]+tweet_sentiment_df[1]+tweet_sentiment_df[2]\n",
    "tweet_sentiment_df['percentange_positive_tweets'] = tweet_sentiment_df[2]/tweet_sentiment_df['total']*100\n",
    "tweet_sentiment_df['percentange_negative_tweets'] = tweet_sentiment_df[0]/tweet_sentiment_df['total']*100"
   ]
  },
  {
   "cell_type": "code",
   "execution_count": 96,
   "metadata": {},
   "outputs": [],
   "source": [
    "tweet_sentiment_df = tweet_sentiment_df.rename(columns ={0:'negative_tweets',1:'neutral_tweets',2:'positive_tweets'})"
   ]
  },
  {
   "cell_type": "code",
   "execution_count": 97,
   "metadata": {},
   "outputs": [
    {
     "data": {
      "text/html": [
       "<div>\n",
       "<style scoped>\n",
       "    .dataframe tbody tr th:only-of-type {\n",
       "        vertical-align: middle;\n",
       "    }\n",
       "\n",
       "    .dataframe tbody tr th {\n",
       "        vertical-align: top;\n",
       "    }\n",
       "\n",
       "    .dataframe thead th {\n",
       "        text-align: right;\n",
       "    }\n",
       "</style>\n",
       "<table border=\"1\" class=\"dataframe\">\n",
       "  <thead>\n",
       "    <tr style=\"text-align: right;\">\n",
       "      <th></th>\n",
       "      <th>negative_tweets</th>\n",
       "      <th>neutral_tweets</th>\n",
       "      <th>positive_tweets</th>\n",
       "      <th>total</th>\n",
       "      <th>percentange_positive_tweets</th>\n",
       "      <th>percentange_negative_tweets</th>\n",
       "    </tr>\n",
       "  </thead>\n",
       "  <tbody>\n",
       "    <tr>\n",
       "      <th>2009-04-06</th>\n",
       "      <td>998</td>\n",
       "      <td>1831</td>\n",
       "      <td>2171</td>\n",
       "      <td>5000</td>\n",
       "      <td>43.42</td>\n",
       "      <td>19.96</td>\n",
       "    </tr>\n",
       "    <tr>\n",
       "      <th>2009-04-07</th>\n",
       "      <td>976</td>\n",
       "      <td>1819</td>\n",
       "      <td>2205</td>\n",
       "      <td>5000</td>\n",
       "      <td>44.10</td>\n",
       "      <td>19.52</td>\n",
       "    </tr>\n",
       "    <tr>\n",
       "      <th>2009-04-17</th>\n",
       "      <td>833</td>\n",
       "      <td>1789</td>\n",
       "      <td>2378</td>\n",
       "      <td>5000</td>\n",
       "      <td>47.56</td>\n",
       "      <td>16.66</td>\n",
       "    </tr>\n",
       "    <tr>\n",
       "      <th>2009-04-18</th>\n",
       "      <td>904</td>\n",
       "      <td>1855</td>\n",
       "      <td>2241</td>\n",
       "      <td>5000</td>\n",
       "      <td>44.82</td>\n",
       "      <td>18.08</td>\n",
       "    </tr>\n",
       "    <tr>\n",
       "      <th>2009-04-19</th>\n",
       "      <td>877</td>\n",
       "      <td>1882</td>\n",
       "      <td>2241</td>\n",
       "      <td>5000</td>\n",
       "      <td>44.82</td>\n",
       "      <td>17.54</td>\n",
       "    </tr>\n",
       "    <tr>\n",
       "      <th>2009-04-20</th>\n",
       "      <td>916</td>\n",
       "      <td>1775</td>\n",
       "      <td>2309</td>\n",
       "      <td>5000</td>\n",
       "      <td>46.18</td>\n",
       "      <td>18.32</td>\n",
       "    </tr>\n",
       "    <tr>\n",
       "      <th>2009-04-21</th>\n",
       "      <td>918</td>\n",
       "      <td>1782</td>\n",
       "      <td>2300</td>\n",
       "      <td>5000</td>\n",
       "      <td>46.00</td>\n",
       "      <td>18.36</td>\n",
       "    </tr>\n",
       "    <tr>\n",
       "      <th>2009-05-01</th>\n",
       "      <td>942</td>\n",
       "      <td>1777</td>\n",
       "      <td>2281</td>\n",
       "      <td>5000</td>\n",
       "      <td>45.62</td>\n",
       "      <td>18.84</td>\n",
       "    </tr>\n",
       "    <tr>\n",
       "      <th>2009-05-02</th>\n",
       "      <td>827</td>\n",
       "      <td>1839</td>\n",
       "      <td>2334</td>\n",
       "      <td>5000</td>\n",
       "      <td>46.68</td>\n",
       "      <td>16.54</td>\n",
       "    </tr>\n",
       "    <tr>\n",
       "      <th>2009-05-03</th>\n",
       "      <td>925</td>\n",
       "      <td>1817</td>\n",
       "      <td>2258</td>\n",
       "      <td>5000</td>\n",
       "      <td>45.16</td>\n",
       "      <td>18.50</td>\n",
       "    </tr>\n",
       "  </tbody>\n",
       "</table>\n",
       "</div>"
      ],
      "text/plain": [
       "            negative_tweets  neutral_tweets  positive_tweets  total  \\\n",
       "2009-04-06              998            1831             2171   5000   \n",
       "2009-04-07              976            1819             2205   5000   \n",
       "2009-04-17              833            1789             2378   5000   \n",
       "2009-04-18              904            1855             2241   5000   \n",
       "2009-04-19              877            1882             2241   5000   \n",
       "2009-04-20              916            1775             2309   5000   \n",
       "2009-04-21              918            1782             2300   5000   \n",
       "2009-05-01              942            1777             2281   5000   \n",
       "2009-05-02              827            1839             2334   5000   \n",
       "2009-05-03              925            1817             2258   5000   \n",
       "\n",
       "            percentange_positive_tweets  percentange_negative_tweets  \n",
       "2009-04-06                        43.42                        19.96  \n",
       "2009-04-07                        44.10                        19.52  \n",
       "2009-04-17                        47.56                        16.66  \n",
       "2009-04-18                        44.82                        18.08  \n",
       "2009-04-19                        44.82                        17.54  \n",
       "2009-04-20                        46.18                        18.32  \n",
       "2009-04-21                        46.00                        18.36  \n",
       "2009-05-01                        45.62                        18.84  \n",
       "2009-05-02                        46.68                        16.54  \n",
       "2009-05-03                        45.16                        18.50  "
      ]
     },
     "execution_count": 97,
     "metadata": {},
     "output_type": "execute_result"
    }
   ],
   "source": [
    "tweet_sentiment_df.head(10)"
   ]
  },
  {
   "cell_type": "code",
   "execution_count": 98,
   "metadata": {},
   "outputs": [],
   "source": [
    "joined_df = mean_finance_df.join(tweet_sentiment_df, how='inner')"
   ]
  },
  {
   "cell_type": "code",
   "execution_count": 111,
   "metadata": {},
   "outputs": [
    {
     "data": {
      "text/plain": [
       "<matplotlib.axes._subplots.AxesSubplot at 0x11b459ef0>"
      ]
     },
     "execution_count": 111,
     "metadata": {},
     "output_type": "execute_result"
    },
    {
     "data": {
      "image/png": "[encoded data removed]",
      "text/plain": [
       "<Figure size 1152x648 with 1 Axes>"
      ]
     },
     "metadata": {
      "needs_background": "light"
     },
     "output_type": "display_data"
    }
   ],
   "source": [
    "joined_df\n",
    "# correlation between positive and stock change\n",
    "df = joined_df[['agg_stock_percent_change','percentange_positive_tweets','percentange_negative_tweets']]\n",
    "df.plot(figsize=(16,9),title=\"percent change major indices per day\",linestyle='-', marker='o')"
   ]
  },
  {
   "cell_type": "code",
   "execution_count": 124,
   "metadata": {},
   "outputs": [
    {
     "data": {
      "text/plain": [
       "(0.2972073812865935, -0.2917632840717102)"
      ]
     },
     "execution_count": 124,
     "metadata": {},
     "output_type": "execute_result"
    }
   ],
   "source": [
    "r1 = df['agg_stock_percent_change'].corr(df['percentange_positive_tweets'],method='spearman')\n",
    "r2 = df['agg_stock_percent_change'].corr(df['percentange_negative_tweets'],method='spearman')\n",
    "r1,r2\n",
    "# (0.2972073812865935, -0.2917632840717102)"
   ]
  },
  {
   "cell_type": "code",
   "execution_count": 130,
   "metadata": {},
   "outputs": [
    {
     "data": {
      "text/plain": [
       "(1.676255781274544, -1.642664799482453)"
      ]
     },
     "execution_count": 130,
     "metadata": {},
     "output_type": "execute_result"
    }
   ],
   "source": [
    "# http://www.sthda.com/english/wiki/correlation-test-between-two-variables-in-r\n",
    "N = len(joined_df)\n",
    "def t_value(rs,n):\n",
    "    return rs/pow(1-rs**2,0.5)*pow(n-2,0.5)\n",
    "t_r1 = t_value(r1,N) \n",
    "t_r2 = t_value(r2,N) \n",
    "t_r1,t_r2\n",
    "# (1.676255781274544, -1.642664799482453)"
   ]
  },
  {
   "cell_type": "code",
   "execution_count": 136,
   "metadata": {},
   "outputs": [
    {
     "data": {
      "text/plain": [
       "(0.052218957432438755, 0.05562661922565244)"
      ]
     },
     "execution_count": 136,
     "metadata": {},
     "output_type": "execute_result"
    }
   ],
   "source": [
    "# pvalue \n",
    "from scipy import stats\n",
    "import numpy as np\n",
    "pval1 = stats.t.sf(np.abs(t_r1), N-2)  # one-sided pvalue = Prob(abs(t)>t\n",
    "pval2 = stats.t.sf(np.abs(t_r2), N-2)  # one-sided pvalue = Prob(abs(t)>t\n",
    "pval1,pval2"
   ]
  },
  {
   "cell_type": "code",
   "execution_count": 134,
   "metadata": {},
   "outputs": [],
   "source": [
    "# since p > 0.05 in both instances we cannot reject the null hypthesis"
   ]
  },
  {
   "cell_type": "code",
   "execution_count": 137,
   "metadata": {},
   "outputs": [
    {
     "ename": "AttributeError",
     "evalue": "module 'pandas' has no attribute 'ols'",
     "output_type": "error",
     "traceback": [
      "\u001b[0;31m---------------------------------------------------------------------------\u001b[0m",
      "\u001b[0;31mAttributeError\u001b[0m                            Traceback (most recent call last)",
      "\u001b[0;32m<ipython-input-137-16002bb949eb>\u001b[0m in \u001b[0;36m<module>\u001b[0;34m\u001b[0m\n\u001b[0;32m----> 1\u001b[0;31m \u001b[0mpercent_change_on_positive_tweets\u001b[0m \u001b[0;34m=\u001b[0m \u001b[0mpd\u001b[0m\u001b[0;34m.\u001b[0m\u001b[0mols\u001b[0m\u001b[0;34m(\u001b[0m\u001b[0my\u001b[0m\u001b[0;34m=\u001b[0m\u001b[0mdf\u001b[0m\u001b[0;34m[\u001b[0m\u001b[0;34m'agg_stock_percent_change'\u001b[0m\u001b[0;34m]\u001b[0m\u001b[0;34m,\u001b[0m \u001b[0mx\u001b[0m\u001b[0;34m=\u001b[0m\u001b[0mdf\u001b[0m\u001b[0;34m[\u001b[0m\u001b[0;34m'percentange_positive_tweets'\u001b[0m\u001b[0;34m]\u001b[0m\u001b[0;34m,\u001b[0m \u001b[0mintercept\u001b[0m\u001b[0;34m=\u001b[0m\u001b[0;32mTrue\u001b[0m\u001b[0;34m)\u001b[0m\u001b[0;34m\u001b[0m\u001b[0;34m\u001b[0m\u001b[0m\n\u001b[0m",
      "\u001b[0;31mAttributeError\u001b[0m: module 'pandas' has no attribute 'ols'"
     ]
    }
   ],
   "source": []
  },
  {
   "cell_type": "code",
   "execution_count": null,
   "metadata": {},
   "outputs": [],
   "source": []
  }
 ],
 "metadata": {
  "kernelspec": {
   "display_name": "Python 3",
   "language": "python",
   "name": "python3"
  },
  "language_info": {
   "codemirror_mode": {
    "name": "ipython",
    "version": 3
   },
   "file_extension": ".py",
   "mimetype": "text/x-python",
   "name": "python",
   "nbconvert_exporter": "python",
   "pygments_lexer": "ipython3",
   "version": "3.7.1"
  }
 },
 "nbformat": 4,
 "nbformat_minor": 2
}
